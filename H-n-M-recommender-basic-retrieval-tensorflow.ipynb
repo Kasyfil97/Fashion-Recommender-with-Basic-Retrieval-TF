{
 "cells": [
  {
   "cell_type": "code",
   "execution_count": 1,
   "id": "63e0a4e1",
   "metadata": {
    "execution": {
     "iopub.execute_input": "2022-05-07T10:16:44.847570Z",
     "iopub.status.busy": "2022-05-07T10:16:44.847048Z",
     "iopub.status.idle": "2022-05-07T10:18:27.416384Z",
     "shell.execute_reply": "2022-05-07T10:18:27.414598Z"
    },
    "papermill": {
     "duration": 102.630295,
     "end_time": "2022-05-07T10:18:27.420575",
     "exception": false,
     "start_time": "2022-05-07T10:16:44.790280",
     "status": "completed"
    },
    "tags": []
   },
   "outputs": [
    {
     "name": "stdout",
     "output_type": "stream",
     "text": [
      "\u001b[31mERROR: pip's dependency resolver does not currently take into account all the packages that are installed. This behaviour is the source of the following dependency conflicts.\r\n",
      "tensorflow-io 0.21.0 requires tensorflow-io-gcs-filesystem==0.21.0, which is not installed.\r\n",
      "beatrix-jupyterlab 3.1.7 requires google-cloud-bigquery-storage, which is not installed.\r\n",
      "tfx-bsl 1.7.0 requires pyarrow<6,>=1, but you have pyarrow 7.0.0 which is incompatible.\r\n",
      "tfx-bsl 1.7.0 requires tensorflow!=2.0.*,!=2.1.*,!=2.2.*,!=2.3.*,!=2.4.*,!=2.5.*,!=2.6.*,!=2.7.*,<3,>=1.15.5, but you have tensorflow 2.6.3 which is incompatible.\r\n",
      "tensorflow-transform 1.7.0 requires pyarrow<6,>=1, but you have pyarrow 7.0.0 which is incompatible.\r\n",
      "tensorflow-transform 1.7.0 requires tensorflow!=2.0.*,!=2.1.*,!=2.2.*,!=2.3.*,!=2.4.*,!=2.5.*,!=2.6.*,!=2.7.*,<2.9,>=1.15.5, but you have tensorflow 2.6.3 which is incompatible.\r\n",
      "tensorflow-serving-api 2.8.0 requires tensorflow<3,>=2.8.0, but you have tensorflow 2.6.3 which is incompatible.\r\n",
      "rich 12.2.0 requires typing-extensions<5.0,>=4.0.0; python_version < \"3.9\", but you have typing-extensions 3.10.0.2 which is incompatible.\r\n",
      "pytorch-lightning 1.6.1 requires typing-extensions>=4.0.0, but you have typing-extensions 3.10.0.2 which is incompatible.\r\n",
      "pdpbox 0.2.1 requires matplotlib==3.1.1, but you have matplotlib 3.5.1 which is incompatible.\r\n",
      "imageio 2.16.1 requires numpy>=1.20.0, but you have numpy 1.19.5 which is incompatible.\r\n",
      "grpcio-status 1.44.0 requires grpcio>=1.44.0, but you have grpcio 1.43.0 which is incompatible.\r\n",
      "google-cloud-aiplatform 0.6.0a1 requires google-cloud-storage<2.0.0dev,>=1.26.0, but you have google-cloud-storage 2.1.0 which is incompatible.\r\n",
      "gcsfs 2022.2.0 requires fsspec==2022.02.0, but you have fsspec 2022.3.0 which is incompatible.\r\n",
      "flake8 4.0.1 requires importlib-metadata<4.3; python_version < \"3.8\", but you have importlib-metadata 4.11.3 which is incompatible.\r\n",
      "featuretools 1.8.0 requires numpy>=1.21.0, but you have numpy 1.19.5 which is incompatible.\r\n",
      "cloud-tpu-client 0.10 requires google-api-python-client==1.8.0, but you have google-api-python-client 1.12.11 which is incompatible.\r\n",
      "apache-beam 2.37.0 requires dill<0.3.2,>=0.3.1.1, but you have dill 0.3.4 which is incompatible.\r\n",
      "apache-beam 2.37.0 requires httplib2<0.20.0,>=0.8, but you have httplib2 0.20.4 which is incompatible.\r\n",
      "apache-beam 2.37.0 requires pyarrow<7.0.0,>=0.15.1, but you have pyarrow 7.0.0 which is incompatible.\r\n",
      "aioitertools 0.10.0 requires typing_extensions>=4.0; python_version < \"3.10\", but you have typing-extensions 3.10.0.2 which is incompatible.\r\n",
      "aiobotocore 2.2.0 requires botocore<1.24.22,>=1.24.21, but you have botocore 1.25.0 which is incompatible.\u001b[0m\u001b[31m\r\n",
      "\u001b[0m\u001b[33mWARNING: Running pip as the 'root' user can result in broken permissions and conflicting behaviour with the system package manager. It is recommended to use a virtual environment instead: https://pip.pypa.io/warnings/venv\u001b[0m\u001b[33m\r\n",
      "\u001b[0m\u001b[31mERROR: pip's dependency resolver does not currently take into account all the packages that are installed. This behaviour is the source of the following dependency conflicts.\r\n",
      "beatrix-jupyterlab 3.1.7 requires google-cloud-bigquery-storage, which is not installed.\r\n",
      "tfx-bsl 1.7.0 requires pyarrow<6,>=1, but you have pyarrow 7.0.0 which is incompatible.\r\n",
      "tensorflow-transform 1.7.0 requires pyarrow<6,>=1, but you have pyarrow 7.0.0 which is incompatible.\r\n",
      "tensorflow-io 0.21.0 requires tensorflow<2.7.0,>=2.6.0, but you have tensorflow 2.8.0 which is incompatible.\r\n",
      "tensorflow-io 0.21.0 requires tensorflow-io-gcs-filesystem==0.21.0, but you have tensorflow-io-gcs-filesystem 0.25.0 which is incompatible.\r\n",
      "pytorch-lightning 1.6.1 requires typing-extensions>=4.0.0, but you have typing-extensions 3.10.0.2 which is incompatible.\r\n",
      "pdpbox 0.2.1 requires matplotlib==3.1.1, but you have matplotlib 3.5.1 which is incompatible.\r\n",
      "apache-beam 2.37.0 requires dill<0.3.2,>=0.3.1.1, but you have dill 0.3.4 which is incompatible.\r\n",
      "apache-beam 2.37.0 requires httplib2<0.20.0,>=0.8, but you have httplib2 0.20.4 which is incompatible.\r\n",
      "apache-beam 2.37.0 requires pyarrow<7.0.0,>=0.15.1, but you have pyarrow 7.0.0 which is incompatible.\u001b[0m\u001b[31m\r\n",
      "\u001b[0m\u001b[33mWARNING: Running pip as the 'root' user can result in broken permissions and conflicting behaviour with the system package manager. It is recommended to use a virtual environment instead: https://pip.pypa.io/warnings/venv\u001b[0m\u001b[33m\r\n",
      "\u001b[0m"
     ]
    }
   ],
   "source": [
    "!pip install -q tensorflow-recommenders\n",
    "!pip install -q scann"
   ]
  },
  {
   "cell_type": "code",
   "execution_count": 2,
   "id": "9f157757",
   "metadata": {
    "execution": {
     "iopub.execute_input": "2022-05-07T10:18:27.542587Z",
     "iopub.status.busy": "2022-05-07T10:18:27.542156Z",
     "iopub.status.idle": "2022-05-07T10:18:33.881786Z",
     "shell.execute_reply": "2022-05-07T10:18:33.880128Z"
    },
    "papermill": {
     "duration": 6.40257,
     "end_time": "2022-05-07T10:18:33.885117",
     "exception": false,
     "start_time": "2022-05-07T10:18:27.482547",
     "status": "completed"
    },
    "tags": []
   },
   "outputs": [
    {
     "name": "stderr",
     "output_type": "stream",
     "text": [
      "2022-05-07 10:18:27.720311: W tensorflow/stream_executor/platform/default/dso_loader.cc:64] Could not load dynamic library 'libcudart.so.11.0'; dlerror: libcudart.so.11.0: cannot open shared object file: No such file or directory; LD_LIBRARY_PATH: /usr/local/cuda/lib64:/usr/local/cuda/lib:/usr/local/lib/x86_64-linux-gnu:/usr/local/nvidia/lib:/usr/local/nvidia/lib64:\n",
      "2022-05-07 10:18:27.720418: I tensorflow/stream_executor/cuda/cudart_stub.cc:29] Ignore above cudart dlerror if you do not have a GPU set up on your machine.\n"
     ]
    }
   ],
   "source": [
    "import pandas as pd\n",
    "import numpy as np\n",
    "import tensorflow as tf\n",
    "import tensorflow_recommenders as tfrs\n",
    "\n",
    "from pathlib import Path\n",
    "from typing import Dict, Text"
   ]
  },
  {
   "cell_type": "markdown",
   "id": "18eb63cc",
   "metadata": {
    "papermill": {
     "duration": 0.055901,
     "end_time": "2022-05-07T10:18:33.998155",
     "exception": false,
     "start_time": "2022-05-07T10:18:33.942254",
     "status": "completed"
    },
    "tags": []
   },
   "source": [
    "# Preview\n",
    "\n",
    "In this notebook, we use basic retrieval algorithm. This algorithm is fit for case recommender between two feature. In this competition, we should make recommendation between user and article.\n",
    "\n",
    "Real-world recommender systems are often composed of two stages:\n",
    "\n",
    "1. The retrieval stage is responsible for selecting an initial set of hundreds of candidates from all possible candidates. The main objective of this model is to efficiently weed out all candidates that the user is not interested in. Because the retrieval model may be dealing with millions of candidates, it has to be computationally efficient.\n",
    "2. The ranking stage takes the outputs of the retrieval model and fine-tunes them to select the best possible handful of recommendations. Its task is to narrow down the set of items the user may be interested in to a shortlist of likely candidates.\n",
    "\n",
    "In this tutorial, we're going to focus on the first stage, retrieval. If you are interested in the ranking stage, have a look at our [ranking](basic_ranking) tutorial.\n",
    "\n",
    "Retrieval models are often composed of two sub-models:\n",
    "\n",
    "1. A query model computing the query representation (normally a fixed-dimensionality embedding vector) using query features.\n",
    "2. A candidate model computing the candidate representation (an equally-sized vector) using the candidate features\n",
    "\n",
    "The outputs of the two models are then multiplied together to give a query-candidate affinity score, with higher scores expressing a better match between the candidate and the query.\n",
    "\n",
    "In this tutorial, we're going to build and train such a two-tower model using the Movielens dataset.\n",
    "\n",
    "We're going to:\n",
    "\n",
    "1. Get our data and split it into a training and test set.\n",
    "2. Implement a retrieval model.\n",
    "3. Fit and evaluate it.\n",
    "4. Export it for efficient serving by building an approximate nearest neighbours (ANN) index."
   ]
  },
  {
   "cell_type": "markdown",
   "id": "076953fa",
   "metadata": {
    "papermill": {
     "duration": 0.056949,
     "end_time": "2022-05-07T10:18:34.111122",
     "exception": false,
     "start_time": "2022-05-07T10:18:34.054173",
     "status": "completed"
    },
    "tags": []
   },
   "source": [
    "# Load Data"
   ]
  },
  {
   "cell_type": "code",
   "execution_count": 3,
   "id": "fd6b2256",
   "metadata": {
    "execution": {
     "iopub.execute_input": "2022-05-07T10:18:34.226578Z",
     "iopub.status.busy": "2022-05-07T10:18:34.225012Z",
     "iopub.status.idle": "2022-05-07T10:20:19.092973Z",
     "shell.execute_reply": "2022-05-07T10:20:19.091985Z"
    },
    "papermill": {
     "duration": 104.929088,
     "end_time": "2022-05-07T10:20:19.096170",
     "exception": false,
     "start_time": "2022-05-07T10:18:34.167082",
     "status": "completed"
    },
    "tags": []
   },
   "outputs": [],
   "source": [
    "articles=pd.read_csv('../input/h-and-m-personalized-fashion-recommendations/articles.csv')\n",
    "customers=pd.read_csv('../input/h-and-m-personalized-fashion-recommendations/customers.csv')\n",
    "trans_train=pd.read_csv('../input/h-and-m-personalized-fashion-recommendations/transactions_train.csv', parse_dates=['t_dat'])\n",
    "submission=pd.read_csv('../input/h-and-m-personalized-fashion-recommendations/sample_submission.csv')"
   ]
  },
  {
   "cell_type": "code",
   "execution_count": 4,
   "id": "43ef1114",
   "metadata": {
    "execution": {
     "iopub.execute_input": "2022-05-07T10:20:19.220481Z",
     "iopub.status.busy": "2022-05-07T10:20:19.219699Z",
     "iopub.status.idle": "2022-05-07T10:20:19.278670Z",
     "shell.execute_reply": "2022-05-07T10:20:19.277471Z"
    },
    "papermill": {
     "duration": 0.12727,
     "end_time": "2022-05-07T10:20:19.282607",
     "exception": false,
     "start_time": "2022-05-07T10:20:19.155337",
     "status": "completed"
    },
    "tags": []
   },
   "outputs": [
    {
     "data": {
      "text/html": [
       "<div>\n",
       "<style scoped>\n",
       "    .dataframe tbody tr th:only-of-type {\n",
       "        vertical-align: middle;\n",
       "    }\n",
       "\n",
       "    .dataframe tbody tr th {\n",
       "        vertical-align: top;\n",
       "    }\n",
       "\n",
       "    .dataframe thead th {\n",
       "        text-align: right;\n",
       "    }\n",
       "</style>\n",
       "<table border=\"1\" class=\"dataframe\">\n",
       "  <thead>\n",
       "    <tr style=\"text-align: right;\">\n",
       "      <th></th>\n",
       "      <th>article_id</th>\n",
       "      <th>product_code</th>\n",
       "      <th>prod_name</th>\n",
       "      <th>product_type_no</th>\n",
       "      <th>product_type_name</th>\n",
       "      <th>product_group_name</th>\n",
       "      <th>graphical_appearance_no</th>\n",
       "      <th>graphical_appearance_name</th>\n",
       "      <th>colour_group_code</th>\n",
       "      <th>colour_group_name</th>\n",
       "      <th>...</th>\n",
       "      <th>department_name</th>\n",
       "      <th>index_code</th>\n",
       "      <th>index_name</th>\n",
       "      <th>index_group_no</th>\n",
       "      <th>index_group_name</th>\n",
       "      <th>section_no</th>\n",
       "      <th>section_name</th>\n",
       "      <th>garment_group_no</th>\n",
       "      <th>garment_group_name</th>\n",
       "      <th>detail_desc</th>\n",
       "    </tr>\n",
       "  </thead>\n",
       "  <tbody>\n",
       "    <tr>\n",
       "      <th>0</th>\n",
       "      <td>108775015</td>\n",
       "      <td>108775</td>\n",
       "      <td>Strap top</td>\n",
       "      <td>253</td>\n",
       "      <td>Vest top</td>\n",
       "      <td>Garment Upper body</td>\n",
       "      <td>1010016</td>\n",
       "      <td>Solid</td>\n",
       "      <td>9</td>\n",
       "      <td>Black</td>\n",
       "      <td>...</td>\n",
       "      <td>Jersey Basic</td>\n",
       "      <td>A</td>\n",
       "      <td>Ladieswear</td>\n",
       "      <td>1</td>\n",
       "      <td>Ladieswear</td>\n",
       "      <td>16</td>\n",
       "      <td>Womens Everyday Basics</td>\n",
       "      <td>1002</td>\n",
       "      <td>Jersey Basic</td>\n",
       "      <td>Jersey top with narrow shoulder straps.</td>\n",
       "    </tr>\n",
       "    <tr>\n",
       "      <th>1</th>\n",
       "      <td>108775044</td>\n",
       "      <td>108775</td>\n",
       "      <td>Strap top</td>\n",
       "      <td>253</td>\n",
       "      <td>Vest top</td>\n",
       "      <td>Garment Upper body</td>\n",
       "      <td>1010016</td>\n",
       "      <td>Solid</td>\n",
       "      <td>10</td>\n",
       "      <td>White</td>\n",
       "      <td>...</td>\n",
       "      <td>Jersey Basic</td>\n",
       "      <td>A</td>\n",
       "      <td>Ladieswear</td>\n",
       "      <td>1</td>\n",
       "      <td>Ladieswear</td>\n",
       "      <td>16</td>\n",
       "      <td>Womens Everyday Basics</td>\n",
       "      <td>1002</td>\n",
       "      <td>Jersey Basic</td>\n",
       "      <td>Jersey top with narrow shoulder straps.</td>\n",
       "    </tr>\n",
       "    <tr>\n",
       "      <th>2</th>\n",
       "      <td>108775051</td>\n",
       "      <td>108775</td>\n",
       "      <td>Strap top (1)</td>\n",
       "      <td>253</td>\n",
       "      <td>Vest top</td>\n",
       "      <td>Garment Upper body</td>\n",
       "      <td>1010017</td>\n",
       "      <td>Stripe</td>\n",
       "      <td>11</td>\n",
       "      <td>Off White</td>\n",
       "      <td>...</td>\n",
       "      <td>Jersey Basic</td>\n",
       "      <td>A</td>\n",
       "      <td>Ladieswear</td>\n",
       "      <td>1</td>\n",
       "      <td>Ladieswear</td>\n",
       "      <td>16</td>\n",
       "      <td>Womens Everyday Basics</td>\n",
       "      <td>1002</td>\n",
       "      <td>Jersey Basic</td>\n",
       "      <td>Jersey top with narrow shoulder straps.</td>\n",
       "    </tr>\n",
       "  </tbody>\n",
       "</table>\n",
       "<p>3 rows × 25 columns</p>\n",
       "</div>"
      ],
      "text/plain": [
       "   article_id  product_code      prod_name  product_type_no product_type_name  \\\n",
       "0   108775015        108775      Strap top              253          Vest top   \n",
       "1   108775044        108775      Strap top              253          Vest top   \n",
       "2   108775051        108775  Strap top (1)              253          Vest top   \n",
       "\n",
       "   product_group_name  graphical_appearance_no graphical_appearance_name  \\\n",
       "0  Garment Upper body                  1010016                     Solid   \n",
       "1  Garment Upper body                  1010016                     Solid   \n",
       "2  Garment Upper body                  1010017                    Stripe   \n",
       "\n",
       "   colour_group_code colour_group_name  ...  department_name index_code  \\\n",
       "0                  9             Black  ...     Jersey Basic          A   \n",
       "1                 10             White  ...     Jersey Basic          A   \n",
       "2                 11         Off White  ...     Jersey Basic          A   \n",
       "\n",
       "   index_name index_group_no  index_group_name section_no  \\\n",
       "0  Ladieswear              1        Ladieswear         16   \n",
       "1  Ladieswear              1        Ladieswear         16   \n",
       "2  Ladieswear              1        Ladieswear         16   \n",
       "\n",
       "             section_name garment_group_no  garment_group_name  \\\n",
       "0  Womens Everyday Basics             1002        Jersey Basic   \n",
       "1  Womens Everyday Basics             1002        Jersey Basic   \n",
       "2  Womens Everyday Basics             1002        Jersey Basic   \n",
       "\n",
       "                               detail_desc  \n",
       "0  Jersey top with narrow shoulder straps.  \n",
       "1  Jersey top with narrow shoulder straps.  \n",
       "2  Jersey top with narrow shoulder straps.  \n",
       "\n",
       "[3 rows x 25 columns]"
      ]
     },
     "execution_count": 4,
     "metadata": {},
     "output_type": "execute_result"
    }
   ],
   "source": [
    "articles.head(3)"
   ]
  },
  {
   "cell_type": "code",
   "execution_count": 5,
   "id": "baebf1d4",
   "metadata": {
    "execution": {
     "iopub.execute_input": "2022-05-07T10:20:19.400790Z",
     "iopub.status.busy": "2022-05-07T10:20:19.400443Z",
     "iopub.status.idle": "2022-05-07T10:20:19.405237Z",
     "shell.execute_reply": "2022-05-07T10:20:19.404576Z"
    },
    "papermill": {
     "duration": 0.06762,
     "end_time": "2022-05-07T10:20:19.409404",
     "exception": false,
     "start_time": "2022-05-07T10:20:19.341784",
     "status": "completed"
    },
    "tags": []
   },
   "outputs": [
    {
     "name": "stdout",
     "output_type": "stream",
     "text": [
      "articles data has 105542 rows and 25 columns\n"
     ]
    }
   ],
   "source": [
    "print(f\"articles data has {articles.shape[0]} rows and {articles.shape[1]} columns\")"
   ]
  },
  {
   "cell_type": "code",
   "execution_count": 6,
   "id": "7f99891d",
   "metadata": {
    "execution": {
     "iopub.execute_input": "2022-05-07T10:20:19.517445Z",
     "iopub.status.busy": "2022-05-07T10:20:19.517188Z",
     "iopub.status.idle": "2022-05-07T10:20:19.529401Z",
     "shell.execute_reply": "2022-05-07T10:20:19.528896Z"
    },
    "papermill": {
     "duration": 0.065441,
     "end_time": "2022-05-07T10:20:19.532883",
     "exception": false,
     "start_time": "2022-05-07T10:20:19.467442",
     "status": "completed"
    },
    "tags": []
   },
   "outputs": [
    {
     "data": {
      "text/html": [
       "<div>\n",
       "<style scoped>\n",
       "    .dataframe tbody tr th:only-of-type {\n",
       "        vertical-align: middle;\n",
       "    }\n",
       "\n",
       "    .dataframe tbody tr th {\n",
       "        vertical-align: top;\n",
       "    }\n",
       "\n",
       "    .dataframe thead th {\n",
       "        text-align: right;\n",
       "    }\n",
       "</style>\n",
       "<table border=\"1\" class=\"dataframe\">\n",
       "  <thead>\n",
       "    <tr style=\"text-align: right;\">\n",
       "      <th></th>\n",
       "      <th>customer_id</th>\n",
       "      <th>FN</th>\n",
       "      <th>Active</th>\n",
       "      <th>club_member_status</th>\n",
       "      <th>fashion_news_frequency</th>\n",
       "      <th>age</th>\n",
       "      <th>postal_code</th>\n",
       "    </tr>\n",
       "  </thead>\n",
       "  <tbody>\n",
       "    <tr>\n",
       "      <th>0</th>\n",
       "      <td>00000dbacae5abe5e23885899a1fa44253a17956c6d1c3...</td>\n",
       "      <td>NaN</td>\n",
       "      <td>NaN</td>\n",
       "      <td>ACTIVE</td>\n",
       "      <td>NONE</td>\n",
       "      <td>49.0</td>\n",
       "      <td>52043ee2162cf5aa7ee79974281641c6f11a68d276429a...</td>\n",
       "    </tr>\n",
       "    <tr>\n",
       "      <th>1</th>\n",
       "      <td>0000423b00ade91418cceaf3b26c6af3dd342b51fd051e...</td>\n",
       "      <td>NaN</td>\n",
       "      <td>NaN</td>\n",
       "      <td>ACTIVE</td>\n",
       "      <td>NONE</td>\n",
       "      <td>25.0</td>\n",
       "      <td>2973abc54daa8a5f8ccfe9362140c63247c5eee03f1d93...</td>\n",
       "    </tr>\n",
       "    <tr>\n",
       "      <th>2</th>\n",
       "      <td>000058a12d5b43e67d225668fa1f8d618c13dc232df0ca...</td>\n",
       "      <td>NaN</td>\n",
       "      <td>NaN</td>\n",
       "      <td>ACTIVE</td>\n",
       "      <td>NONE</td>\n",
       "      <td>24.0</td>\n",
       "      <td>64f17e6a330a85798e4998f62d0930d14db8db1c054af6...</td>\n",
       "    </tr>\n",
       "  </tbody>\n",
       "</table>\n",
       "</div>"
      ],
      "text/plain": [
       "                                         customer_id  FN  Active  \\\n",
       "0  00000dbacae5abe5e23885899a1fa44253a17956c6d1c3... NaN     NaN   \n",
       "1  0000423b00ade91418cceaf3b26c6af3dd342b51fd051e... NaN     NaN   \n",
       "2  000058a12d5b43e67d225668fa1f8d618c13dc232df0ca... NaN     NaN   \n",
       "\n",
       "  club_member_status fashion_news_frequency   age  \\\n",
       "0             ACTIVE                   NONE  49.0   \n",
       "1             ACTIVE                   NONE  25.0   \n",
       "2             ACTIVE                   NONE  24.0   \n",
       "\n",
       "                                         postal_code  \n",
       "0  52043ee2162cf5aa7ee79974281641c6f11a68d276429a...  \n",
       "1  2973abc54daa8a5f8ccfe9362140c63247c5eee03f1d93...  \n",
       "2  64f17e6a330a85798e4998f62d0930d14db8db1c054af6...  "
      ]
     },
     "execution_count": 6,
     "metadata": {},
     "output_type": "execute_result"
    }
   ],
   "source": [
    "customers.head(3)"
   ]
  },
  {
   "cell_type": "code",
   "execution_count": 7,
   "id": "14bb8683",
   "metadata": {
    "execution": {
     "iopub.execute_input": "2022-05-07T10:20:19.656293Z",
     "iopub.status.busy": "2022-05-07T10:20:19.655936Z",
     "iopub.status.idle": "2022-05-07T10:20:19.662548Z",
     "shell.execute_reply": "2022-05-07T10:20:19.661199Z"
    },
    "papermill": {
     "duration": 0.069535,
     "end_time": "2022-05-07T10:20:19.665128",
     "exception": false,
     "start_time": "2022-05-07T10:20:19.595593",
     "status": "completed"
    },
    "tags": []
   },
   "outputs": [
    {
     "name": "stdout",
     "output_type": "stream",
     "text": [
      "customers data has 1371980 rows and 7 columns\n"
     ]
    }
   ],
   "source": [
    "print(f\"customers data has {customers.shape[0]} rows and {customers.shape[1]} columns\")"
   ]
  },
  {
   "cell_type": "code",
   "execution_count": 8,
   "id": "58d44d7f",
   "metadata": {
    "execution": {
     "iopub.execute_input": "2022-05-07T10:20:19.786573Z",
     "iopub.status.busy": "2022-05-07T10:20:19.785309Z",
     "iopub.status.idle": "2022-05-07T10:20:19.798659Z",
     "shell.execute_reply": "2022-05-07T10:20:19.797969Z"
    },
    "papermill": {
     "duration": 0.074928,
     "end_time": "2022-05-07T10:20:19.800920",
     "exception": false,
     "start_time": "2022-05-07T10:20:19.725992",
     "status": "completed"
    },
    "tags": []
   },
   "outputs": [
    {
     "data": {
      "text/html": [
       "<div>\n",
       "<style scoped>\n",
       "    .dataframe tbody tr th:only-of-type {\n",
       "        vertical-align: middle;\n",
       "    }\n",
       "\n",
       "    .dataframe tbody tr th {\n",
       "        vertical-align: top;\n",
       "    }\n",
       "\n",
       "    .dataframe thead th {\n",
       "        text-align: right;\n",
       "    }\n",
       "</style>\n",
       "<table border=\"1\" class=\"dataframe\">\n",
       "  <thead>\n",
       "    <tr style=\"text-align: right;\">\n",
       "      <th></th>\n",
       "      <th>t_dat</th>\n",
       "      <th>customer_id</th>\n",
       "      <th>article_id</th>\n",
       "      <th>price</th>\n",
       "      <th>sales_channel_id</th>\n",
       "    </tr>\n",
       "  </thead>\n",
       "  <tbody>\n",
       "    <tr>\n",
       "      <th>0</th>\n",
       "      <td>2018-09-20</td>\n",
       "      <td>000058a12d5b43e67d225668fa1f8d618c13dc232df0ca...</td>\n",
       "      <td>663713001</td>\n",
       "      <td>0.050831</td>\n",
       "      <td>2</td>\n",
       "    </tr>\n",
       "    <tr>\n",
       "      <th>1</th>\n",
       "      <td>2018-09-20</td>\n",
       "      <td>000058a12d5b43e67d225668fa1f8d618c13dc232df0ca...</td>\n",
       "      <td>541518023</td>\n",
       "      <td>0.030492</td>\n",
       "      <td>2</td>\n",
       "    </tr>\n",
       "    <tr>\n",
       "      <th>2</th>\n",
       "      <td>2018-09-20</td>\n",
       "      <td>00007d2de826758b65a93dd24ce629ed66842531df6699...</td>\n",
       "      <td>505221004</td>\n",
       "      <td>0.015237</td>\n",
       "      <td>2</td>\n",
       "    </tr>\n",
       "  </tbody>\n",
       "</table>\n",
       "</div>"
      ],
      "text/plain": [
       "       t_dat                                        customer_id  article_id  \\\n",
       "0 2018-09-20  000058a12d5b43e67d225668fa1f8d618c13dc232df0ca...   663713001   \n",
       "1 2018-09-20  000058a12d5b43e67d225668fa1f8d618c13dc232df0ca...   541518023   \n",
       "2 2018-09-20  00007d2de826758b65a93dd24ce629ed66842531df6699...   505221004   \n",
       "\n",
       "      price  sales_channel_id  \n",
       "0  0.050831                 2  \n",
       "1  0.030492                 2  \n",
       "2  0.015237                 2  "
      ]
     },
     "execution_count": 8,
     "metadata": {},
     "output_type": "execute_result"
    }
   ],
   "source": [
    "trans_train.head(3)"
   ]
  },
  {
   "cell_type": "code",
   "execution_count": 9,
   "id": "eae3ff9a",
   "metadata": {
    "execution": {
     "iopub.execute_input": "2022-05-07T10:20:19.924102Z",
     "iopub.status.busy": "2022-05-07T10:20:19.922960Z",
     "iopub.status.idle": "2022-05-07T10:20:19.928242Z",
     "shell.execute_reply": "2022-05-07T10:20:19.927522Z"
    },
    "papermill": {
     "duration": 0.068469,
     "end_time": "2022-05-07T10:20:19.930157",
     "exception": false,
     "start_time": "2022-05-07T10:20:19.861688",
     "status": "completed"
    },
    "tags": []
   },
   "outputs": [
    {
     "name": "stdout",
     "output_type": "stream",
     "text": [
      "transaction data has 31788324 rows and 5 columns\n"
     ]
    }
   ],
   "source": [
    "print(f\"transaction data has {trans_train.shape[0]} rows and {trans_train.shape[1]} columns\")"
   ]
  },
  {
   "cell_type": "code",
   "execution_count": 10,
   "id": "2f4452d2",
   "metadata": {
    "execution": {
     "iopub.execute_input": "2022-05-07T10:20:20.011058Z",
     "iopub.status.busy": "2022-05-07T10:20:20.010569Z",
     "iopub.status.idle": "2022-05-07T10:20:20.022666Z",
     "shell.execute_reply": "2022-05-07T10:20:20.021408Z"
    },
    "papermill": {
     "duration": 0.055207,
     "end_time": "2022-05-07T10:20:20.025242",
     "exception": false,
     "start_time": "2022-05-07T10:20:19.970035",
     "status": "completed"
    },
    "tags": []
   },
   "outputs": [
    {
     "data": {
      "text/html": [
       "<div>\n",
       "<style scoped>\n",
       "    .dataframe tbody tr th:only-of-type {\n",
       "        vertical-align: middle;\n",
       "    }\n",
       "\n",
       "    .dataframe tbody tr th {\n",
       "        vertical-align: top;\n",
       "    }\n",
       "\n",
       "    .dataframe thead th {\n",
       "        text-align: right;\n",
       "    }\n",
       "</style>\n",
       "<table border=\"1\" class=\"dataframe\">\n",
       "  <thead>\n",
       "    <tr style=\"text-align: right;\">\n",
       "      <th></th>\n",
       "      <th>customer_id</th>\n",
       "      <th>prediction</th>\n",
       "    </tr>\n",
       "  </thead>\n",
       "  <tbody>\n",
       "    <tr>\n",
       "      <th>0</th>\n",
       "      <td>00000dbacae5abe5e23885899a1fa44253a17956c6d1c3...</td>\n",
       "      <td>0706016001 0706016002 0372860001 0610776002 07...</td>\n",
       "    </tr>\n",
       "    <tr>\n",
       "      <th>1</th>\n",
       "      <td>0000423b00ade91418cceaf3b26c6af3dd342b51fd051e...</td>\n",
       "      <td>0706016001 0706016002 0372860001 0610776002 07...</td>\n",
       "    </tr>\n",
       "    <tr>\n",
       "      <th>2</th>\n",
       "      <td>000058a12d5b43e67d225668fa1f8d618c13dc232df0ca...</td>\n",
       "      <td>0706016001 0706016002 0372860001 0610776002 07...</td>\n",
       "    </tr>\n",
       "  </tbody>\n",
       "</table>\n",
       "</div>"
      ],
      "text/plain": [
       "                                         customer_id  \\\n",
       "0  00000dbacae5abe5e23885899a1fa44253a17956c6d1c3...   \n",
       "1  0000423b00ade91418cceaf3b26c6af3dd342b51fd051e...   \n",
       "2  000058a12d5b43e67d225668fa1f8d618c13dc232df0ca...   \n",
       "\n",
       "                                          prediction  \n",
       "0  0706016001 0706016002 0372860001 0610776002 07...  \n",
       "1  0706016001 0706016002 0372860001 0610776002 07...  \n",
       "2  0706016001 0706016002 0372860001 0610776002 07...  "
      ]
     },
     "execution_count": 10,
     "metadata": {},
     "output_type": "execute_result"
    }
   ],
   "source": [
    "submission.head(3)"
   ]
  },
  {
   "cell_type": "markdown",
   "id": "6f40969e",
   "metadata": {
    "papermill": {
     "duration": 0.048235,
     "end_time": "2022-05-07T10:20:20.112411",
     "exception": false,
     "start_time": "2022-05-07T10:20:20.064176",
     "status": "completed"
    },
    "tags": []
   },
   "source": [
    "From transaction train, we can see, there are article_id and customer_id. These two id is foreign key to customers and articles data. Transaction Table is train data for this model"
   ]
  },
  {
   "cell_type": "markdown",
   "id": "be361ab7",
   "metadata": {
    "papermill": {
     "duration": 0.059286,
     "end_time": "2022-05-07T10:20:20.231691",
     "exception": false,
     "start_time": "2022-05-07T10:20:20.172405",
     "status": "completed"
    },
    "tags": []
   },
   "source": [
    "# Preprocessing"
   ]
  },
  {
   "cell_type": "markdown",
   "id": "a16571a3",
   "metadata": {
    "papermill": {
     "duration": 0.059909,
     "end_time": "2022-05-07T10:20:20.351127",
     "exception": false,
     "start_time": "2022-05-07T10:20:20.291218",
     "status": "completed"
    },
    "tags": []
   },
   "source": [
    "for creating the data, we only use customer_id and article_id in transaction train and article_id in articles data. We slice only customer_id and article_id from transaction train and it becomes customer and we slice articles on article_id and it becomes article"
   ]
  },
  {
   "cell_type": "code",
   "execution_count": 11,
   "id": "1e7532fa",
   "metadata": {
    "execution": {
     "iopub.execute_input": "2022-05-07T10:20:20.473367Z",
     "iopub.status.busy": "2022-05-07T10:20:20.472826Z",
     "iopub.status.idle": "2022-05-07T10:20:23.396235Z",
     "shell.execute_reply": "2022-05-07T10:20:23.395114Z"
    },
    "papermill": {
     "duration": 2.987483,
     "end_time": "2022-05-07T10:20:23.398721",
     "exception": false,
     "start_time": "2022-05-07T10:20:20.411238",
     "status": "completed"
    },
    "tags": []
   },
   "outputs": [
    {
     "name": "stderr",
     "output_type": "stream",
     "text": [
      "/opt/conda/lib/python3.7/site-packages/ipykernel_launcher.py:4: SettingWithCopyWarning: \n",
      "A value is trying to be set on a copy of a slice from a DataFrame.\n",
      "Try using .loc[row_indexer,col_indexer] = value instead\n",
      "\n",
      "See the caveats in the documentation: https://pandas.pydata.org/pandas-docs/stable/user_guide/indexing.html#returning-a-view-versus-a-copy\n",
      "  after removing the cwd from sys.path.\n",
      "2022-05-07 10:20:22.847209: W tensorflow/stream_executor/platform/default/dso_loader.cc:64] Could not load dynamic library 'libcuda.so.1'; dlerror: libcuda.so.1: cannot open shared object file: No such file or directory; LD_LIBRARY_PATH: /usr/local/cuda/lib64:/usr/local/cuda/lib:/usr/local/lib/x86_64-linux-gnu:/usr/local/nvidia/lib:/usr/local/nvidia/lib64:\n",
      "2022-05-07 10:20:22.847292: W tensorflow/stream_executor/cuda/cuda_driver.cc:269] failed call to cuInit: UNKNOWN ERROR (303)\n",
      "2022-05-07 10:20:22.847323: I tensorflow/stream_executor/cuda/cuda_diagnostics.cc:156] kernel driver does not appear to be running on this host (441935ba69e2): /proc/driver/nvidia/version does not exist\n",
      "2022-05-07 10:20:22.847914: I tensorflow/core/platform/cpu_feature_guard.cc:151] This TensorFlow binary is optimized with oneAPI Deep Neural Network Library (oneDNN) to use the following CPU instructions in performance-critical operations:  AVX2 FMA\n",
      "To enable them in other operations, rebuild TensorFlow with the appropriate compiler flags.\n"
     ]
    }
   ],
   "source": [
    "#before slicing, we need convert article_id from int to str, because TensorFlow just allow str\n",
    "#slicing transaction train into dictionary\n",
    "trans_train_sample=trans_train[trans_train['t_dat']>='2020-08-01']\n",
    "trans_train_sample['article_id']=trans_train_sample['article_id'].astype(str)\n",
    "customer=tf.data.Dataset.from_tensor_slices(dict(trans_train_sample[['customer_id','article_id']]))\n",
    "\n",
    "#slicing articles into tensor\n",
    "articles['article_id'] = articles['article_id'].astype(str)\n",
    "article_ds=tf.data.Dataset.from_tensor_slices(dict(articles[['article_id']]))\n",
    "article= article_ds.map(lambda x: x['article_id'])"
   ]
  },
  {
   "cell_type": "markdown",
   "id": "45c9ddd2",
   "metadata": {
    "papermill": {
     "duration": 0.040206,
     "end_time": "2022-05-07T10:20:23.480269",
     "exception": false,
     "start_time": "2022-05-07T10:20:23.440063",
     "status": "completed"
    },
    "tags": []
   },
   "source": [
    "To fit and evaluate the model, we need to split it into a training and evaluation set. In an industrial recommender system, this would most likely be done by time: the data up to time $T$ would be used to predict interactions after $T$.\n",
    "\n",
    "\n",
    "In this simple example, however, let's use a random split, putting 80% of the ratings in the train set, and 20% in the test set."
   ]
  },
  {
   "cell_type": "code",
   "execution_count": 12,
   "id": "38a54c19",
   "metadata": {
    "execution": {
     "iopub.execute_input": "2022-05-07T10:20:23.564143Z",
     "iopub.status.busy": "2022-05-07T10:20:23.562872Z",
     "iopub.status.idle": "2022-05-07T10:20:23.575494Z",
     "shell.execute_reply": "2022-05-07T10:20:23.574477Z"
    },
    "papermill": {
     "duration": 0.05728,
     "end_time": "2022-05-07T10:20:23.578243",
     "exception": false,
     "start_time": "2022-05-07T10:20:23.520963",
     "status": "completed"
    },
    "tags": []
   },
   "outputs": [],
   "source": [
    "tf.random.set_seed(42)\n",
    "\n",
    "shuffled = customer.shuffle(100_000, seed=42, reshuffle_each_iteration=False)\n",
    "\n",
    "train = shuffled.take(80_000)\n",
    "test = shuffled.skip(80_000).take(20_000)"
   ]
  },
  {
   "cell_type": "markdown",
   "id": "fb198c7a",
   "metadata": {
    "papermill": {
     "duration": 0.038755,
     "end_time": "2022-05-07T10:20:23.657329",
     "exception": false,
     "start_time": "2022-05-07T10:20:23.618574",
     "status": "completed"
    },
    "tags": []
   },
   "source": [
    "Let's also figure out unique user ids and movie titles present in the data. \n",
    "\n",
    "This is important because we need to be able to map the raw values of our categorical features to embedding vectors in our models. To do that, we need a vocabulary that maps a raw feature value to an integer in a contiguous range: this allows us to look up the corresponding embeddings in our embedding tables."
   ]
  },
  {
   "cell_type": "code",
   "execution_count": 13,
   "id": "4cfccc0f",
   "metadata": {
    "execution": {
     "iopub.execute_input": "2022-05-07T10:20:23.737480Z",
     "iopub.status.busy": "2022-05-07T10:20:23.736714Z",
     "iopub.status.idle": "2022-05-07T10:20:23.785850Z",
     "shell.execute_reply": "2022-05-07T10:20:23.784348Z"
    },
    "papermill": {
     "duration": 0.090918,
     "end_time": "2022-05-07T10:20:23.788061",
     "exception": false,
     "start_time": "2022-05-07T10:20:23.697143",
     "status": "completed"
    },
    "tags": []
   },
   "outputs": [
    {
     "data": {
      "text/plain": [
       "array(['108775015', '108775044', '108775051', '110065001', '110065002',\n",
       "       '110065011', '111565001', '111565003', '111586001', '111593001'],\n",
       "      dtype=object)"
      ]
     },
     "execution_count": 13,
     "metadata": {},
     "output_type": "execute_result"
    }
   ],
   "source": [
    "#creating unique id\n",
    "unique_article_id = np.array(articles['article_id'].unique())\n",
    "\n",
    "unique_customer_id = np.array(customers['customer_id'])\n",
    "\n",
    "unique_article_id[:10]"
   ]
  },
  {
   "cell_type": "markdown",
   "id": "8cc7462a",
   "metadata": {
    "papermill": {
     "duration": 0.038802,
     "end_time": "2022-05-07T10:20:23.866446",
     "exception": false,
     "start_time": "2022-05-07T10:20:23.827644",
     "status": "completed"
    },
    "tags": []
   },
   "source": [
    "# Implementing a Model\n",
    "\n",
    "Choosing the architecture of our model is a key part of modelling.\n",
    "\n",
    "Because we are building a two-tower retrieval model, we can build each tower separately and then combine them in the final model."
   ]
  },
  {
   "cell_type": "markdown",
   "id": "b3de6956",
   "metadata": {
    "papermill": {
     "duration": 0.039085,
     "end_time": "2022-05-07T10:20:23.946068",
     "exception": false,
     "start_time": "2022-05-07T10:20:23.906983",
     "status": "completed"
    },
    "tags": []
   },
   "source": [
    "## Query Tower"
   ]
  },
  {
   "cell_type": "markdown",
   "id": "50c3a7ba",
   "metadata": {
    "papermill": {
     "duration": 0.039331,
     "end_time": "2022-05-07T10:20:24.025389",
     "exception": false,
     "start_time": "2022-05-07T10:20:23.986058",
     "status": "completed"
    },
    "tags": []
   },
   "source": [
    "Let's start with the query tower.\n",
    "\n",
    "The first step is to decide on the dimensionality of the query and candidate representations:"
   ]
  },
  {
   "cell_type": "code",
   "execution_count": 14,
   "id": "fbb5c6af",
   "metadata": {
    "execution": {
     "iopub.execute_input": "2022-05-07T10:20:24.108003Z",
     "iopub.status.busy": "2022-05-07T10:20:24.107400Z",
     "iopub.status.idle": "2022-05-07T10:20:24.110921Z",
     "shell.execute_reply": "2022-05-07T10:20:24.110341Z"
    },
    "papermill": {
     "duration": 0.047216,
     "end_time": "2022-05-07T10:20:24.113335",
     "exception": false,
     "start_time": "2022-05-07T10:20:24.066119",
     "status": "completed"
    },
    "tags": []
   },
   "outputs": [],
   "source": [
    "embedding_dimension = 32"
   ]
  },
  {
   "cell_type": "markdown",
   "id": "38897033",
   "metadata": {
    "papermill": {
     "duration": 0.039035,
     "end_time": "2022-05-07T10:20:24.192604",
     "exception": false,
     "start_time": "2022-05-07T10:20:24.153569",
     "status": "completed"
    },
    "tags": []
   },
   "source": [
    "Higher values will correspond to models that may be more accurate, but will also be slower to fit and more prone to overfitting.\n",
    "\n",
    "The second is to define the model itself. Here, we're going to use Keras preprocessing layers to first convert user ids to integers, and then convert those to user embeddings via an `Embedding` layer. Note that we use the list of unique user ids we computed earlier as a vocabulary:"
   ]
  },
  {
   "cell_type": "code",
   "execution_count": 15,
   "id": "7e289aa7",
   "metadata": {
    "execution": {
     "iopub.execute_input": "2022-05-07T10:20:24.272624Z",
     "iopub.status.busy": "2022-05-07T10:20:24.271973Z",
     "iopub.status.idle": "2022-05-07T10:20:25.614689Z",
     "shell.execute_reply": "2022-05-07T10:20:25.613201Z"
    },
    "papermill": {
     "duration": 1.385893,
     "end_time": "2022-05-07T10:20:25.617580",
     "exception": false,
     "start_time": "2022-05-07T10:20:24.231687",
     "status": "completed"
    },
    "tags": []
   },
   "outputs": [],
   "source": [
    "customer_model = tf.keras.Sequential([\n",
    "  tf.keras.layers.StringLookup(\n",
    "      vocabulary=unique_customer_id, mask_token=None),\n",
    "  # We add an additional embedding to account for unknown tokens.\n",
    "  tf.keras.layers.Embedding(len(unique_customer_id) + 1, embedding_dimension),\n",
    "])"
   ]
  },
  {
   "cell_type": "markdown",
   "id": "d29bd68e",
   "metadata": {
    "papermill": {
     "duration": 0.040035,
     "end_time": "2022-05-07T10:20:25.698761",
     "exception": false,
     "start_time": "2022-05-07T10:20:25.658726",
     "status": "completed"
    },
    "tags": []
   },
   "source": [
    "A simple model like this corresponds exactly to a classic [matrix factorization](https://ieeexplore.ieee.org/abstract/document/4781121) approach. While defining a subclass of `tf.keras.Model` for this simple model might be overkill, we can easily extend it to an arbitrarily complex model using standard Keras components, as long as we return an `embedding_dimension`-wide output at the end."
   ]
  },
  {
   "cell_type": "markdown",
   "id": "d1c76adf",
   "metadata": {
    "papermill": {
     "duration": 0.038597,
     "end_time": "2022-05-07T10:20:25.776871",
     "exception": false,
     "start_time": "2022-05-07T10:20:25.738274",
     "status": "completed"
    },
    "tags": []
   },
   "source": [
    "## Candidate Tower\n",
    "\n",
    "We can do the same with the candidate tower."
   ]
  },
  {
   "cell_type": "code",
   "execution_count": 16,
   "id": "21078d0b",
   "metadata": {
    "execution": {
     "iopub.execute_input": "2022-05-07T10:20:25.858386Z",
     "iopub.status.busy": "2022-05-07T10:20:25.857976Z",
     "iopub.status.idle": "2022-05-07T10:20:25.924697Z",
     "shell.execute_reply": "2022-05-07T10:20:25.923089Z"
    },
    "papermill": {
     "duration": 0.110881,
     "end_time": "2022-05-07T10:20:25.927323",
     "exception": false,
     "start_time": "2022-05-07T10:20:25.816442",
     "status": "completed"
    },
    "tags": []
   },
   "outputs": [],
   "source": [
    "article_model = tf.keras.Sequential([\n",
    "  tf.keras.layers.StringLookup(\n",
    "      vocabulary=unique_article_id, mask_token=None),\n",
    "  tf.keras.layers.Embedding(len(unique_article_id) + 1, embedding_dimension)\n",
    "])"
   ]
  },
  {
   "cell_type": "markdown",
   "id": "f664c735",
   "metadata": {
    "papermill": {
     "duration": 0.038638,
     "end_time": "2022-05-07T10:20:26.007332",
     "exception": false,
     "start_time": "2022-05-07T10:20:25.968694",
     "status": "completed"
    },
    "tags": []
   },
   "source": [
    "## Metrics\n",
    "\n",
    "In our training data we have positive (customer, article) pairs. To figure out how good our model is, we need to compare the affinity score that the model calculates for this pair to the scores of all the other possible candidates: if the score for the positive pair is higher than for all other candidates, our model is highly accurate.\n",
    "\n",
    "To do this, we can use the `tfrs.metrics.FactorizedTopK` metric. The metric has one required argument: the dataset of candidates that are used as implicit negatives for evaluation.\n"
   ]
  },
  {
   "cell_type": "code",
   "execution_count": 17,
   "id": "8c960312",
   "metadata": {
    "execution": {
     "iopub.execute_input": "2022-05-07T10:20:26.091560Z",
     "iopub.status.busy": "2022-05-07T10:20:26.091197Z",
     "iopub.status.idle": "2022-05-07T10:20:26.577333Z",
     "shell.execute_reply": "2022-05-07T10:20:26.575603Z"
    },
    "papermill": {
     "duration": 0.532038,
     "end_time": "2022-05-07T10:20:26.580053",
     "exception": false,
     "start_time": "2022-05-07T10:20:26.048015",
     "status": "completed"
    },
    "tags": []
   },
   "outputs": [],
   "source": [
    "metrics = tfrs.metrics.FactorizedTopK(\n",
    "  candidates=article.batch(128).map(article_model)\n",
    ")"
   ]
  },
  {
   "cell_type": "markdown",
   "id": "51b45e04",
   "metadata": {
    "papermill": {
     "duration": 0.040279,
     "end_time": "2022-05-07T10:20:26.661196",
     "exception": false,
     "start_time": "2022-05-07T10:20:26.620917",
     "status": "completed"
    },
    "tags": []
   },
   "source": [
    "## Loss\n",
    "\n",
    "The next component is the loss used to train our model. TFRS has several loss layers and tasks to make this easy.\n",
    "\n",
    "In this instance, we'll make use of the `Retrieval` task object: a convenience wrapper that bundles together the loss function and metric computation:"
   ]
  },
  {
   "cell_type": "code",
   "execution_count": 18,
   "id": "df2530ba",
   "metadata": {
    "execution": {
     "iopub.execute_input": "2022-05-07T10:20:26.742958Z",
     "iopub.status.busy": "2022-05-07T10:20:26.742610Z",
     "iopub.status.idle": "2022-05-07T10:20:26.751191Z",
     "shell.execute_reply": "2022-05-07T10:20:26.750233Z"
    },
    "papermill": {
     "duration": 0.053342,
     "end_time": "2022-05-07T10:20:26.754491",
     "exception": false,
     "start_time": "2022-05-07T10:20:26.701149",
     "status": "completed"
    },
    "tags": []
   },
   "outputs": [],
   "source": [
    "task = tfrs.tasks.Retrieval(\n",
    "  metrics=metrics\n",
    ")"
   ]
  },
  {
   "cell_type": "markdown",
   "id": "262cb29c",
   "metadata": {
    "papermill": {
     "duration": 0.062177,
     "end_time": "2022-05-07T10:20:26.879322",
     "exception": false,
     "start_time": "2022-05-07T10:20:26.817145",
     "status": "completed"
    },
    "tags": []
   },
   "source": [
    "The task itself is a Keras layer that takes the query and candidate embeddings as arguments, and returns the computed loss: we'll use that to implement the model's training loop."
   ]
  },
  {
   "cell_type": "markdown",
   "id": "396c9abd",
   "metadata": {
    "papermill": {
     "duration": 0.061466,
     "end_time": "2022-05-07T10:20:27.001791",
     "exception": false,
     "start_time": "2022-05-07T10:20:26.940325",
     "status": "completed"
    },
    "tags": []
   },
   "source": [
    "## Basic Retrieval model\n",
    "\n",
    "We can now put it all together into a model. TFRS exposes a base model class (`tfrs.models.Model`) which streamlines building models: all we need to do is to set up the components in the `__init__` method, and implement the `compute_loss` method, taking in the raw features and returning a loss value.\n",
    "\n",
    "The base model will then take care of creating the appropriate training loop to fit our model."
   ]
  },
  {
   "cell_type": "code",
   "execution_count": 19,
   "id": "5fe04ad5",
   "metadata": {
    "execution": {
     "iopub.execute_input": "2022-05-07T10:20:27.128773Z",
     "iopub.status.busy": "2022-05-07T10:20:27.128178Z",
     "iopub.status.idle": "2022-05-07T10:20:27.136725Z",
     "shell.execute_reply": "2022-05-07T10:20:27.135716Z"
    },
    "papermill": {
     "duration": 0.074672,
     "end_time": "2022-05-07T10:20:27.139473",
     "exception": false,
     "start_time": "2022-05-07T10:20:27.064801",
     "status": "completed"
    },
    "tags": []
   },
   "outputs": [],
   "source": [
    "class HnMModel(tfrs.Model):\n",
    "\n",
    "  def __init__(self, customer_model, article_model):\n",
    "    super().__init__()\n",
    "    self.article_model: tf.keras.Model = article_model\n",
    "    self.customer_model: tf.keras.Model = customer_model\n",
    "    self.task: tf.keras.layers.Layer = task\n",
    "\n",
    "  def compute_loss(self, features: Dict[Text, tf.Tensor], training=False) -> tf.Tensor:\n",
    "    # We pick out the user features and pass them into the user model.\n",
    "    customer_embeddings = self.customer_model(features[\"customer_id\"])\n",
    "    # And pick out the movie features and pass them into the movie model,\n",
    "    # getting embeddings back.\n",
    "    article_embeddings = self.article_model(features[\"article_id\"])\n",
    "\n",
    "    # The task computes the loss and the metrics.\n",
    "    return self.task(customer_embeddings, article_embeddings)"
   ]
  },
  {
   "cell_type": "markdown",
   "id": "dbedbe92",
   "metadata": {
    "papermill": {
     "duration": 0.06091,
     "end_time": "2022-05-07T10:20:27.262758",
     "exception": false,
     "start_time": "2022-05-07T10:20:27.201848",
     "status": "completed"
    },
    "tags": []
   },
   "source": [
    "The `tfrs.Model` base class is a simply convenience class: it allows us to compute both training and test losses using the same method.\n",
    "\n",
    "Under the hood, it's still a plain Keras model. You could achieve the same functionality by inheriting from `tf.keras.Model` and overriding the `train_step` and `test_step` functions (see [the guide](https://www.tensorflow.org/guide/keras/customizing_what_happens_in_fit) for details):"
   ]
  },
  {
   "cell_type": "code",
   "execution_count": 20,
   "id": "875b6bf3",
   "metadata": {
    "execution": {
     "iopub.execute_input": "2022-05-07T10:20:27.388336Z",
     "iopub.status.busy": "2022-05-07T10:20:27.387714Z",
     "iopub.status.idle": "2022-05-07T10:20:27.402847Z",
     "shell.execute_reply": "2022-05-07T10:20:27.401984Z"
    },
    "papermill": {
     "duration": 0.081192,
     "end_time": "2022-05-07T10:20:27.405317",
     "exception": false,
     "start_time": "2022-05-07T10:20:27.324125",
     "status": "completed"
    },
    "tags": []
   },
   "outputs": [],
   "source": [
    "class NoBaseClassHnMModel(tf.keras.Model):\n",
    "\n",
    "  def __init__(self, customer_model, article_model):\n",
    "    super().__init__()\n",
    "    self.article_model: tf.keras.Model = article_model\n",
    "    self.customer_model: tf.keras.Model = customer_model\n",
    "    self.task: tf.keras.layers.Layer = task\n",
    "\n",
    "  def train_step(self, features: Dict[Text, tf.Tensor]) -> tf.Tensor:\n",
    "\n",
    "    # Set up a gradient tape to record gradients.\n",
    "    with tf.GradientTape() as tape:\n",
    "\n",
    "      # Loss computation.\n",
    "      customer_embeddings = self.customer_model(features[\"customer_id\"])\n",
    "      artilce_embeddings = self.article_model(features[\"article_title\"])\n",
    "      loss = self.task(customer_embeddings, article_embeddings)\n",
    "\n",
    "      # Handle regularization losses as well.\n",
    "      regularization_loss = sum(self.losses)\n",
    "\n",
    "      total_loss = loss + regularization_loss\n",
    "\n",
    "    gradients = tape.gradient(total_loss, self.trainable_variables)\n",
    "    self.optimizer.apply_gradients(zip(gradients, self.trainable_variables))\n",
    "\n",
    "    metrics = {metric.name: metric.result() for metric in self.metrics}\n",
    "    metrics[\"loss\"] = loss\n",
    "    metrics[\"regularization_loss\"] = regularization_loss\n",
    "    metrics[\"total_loss\"] = total_loss\n",
    "\n",
    "    return metrics\n",
    "\n",
    "  def test_step(self, features: Dict[Text, tf.Tensor]) -> tf.Tensor:\n",
    "\n",
    "    # Loss computation.\n",
    "    customer_embeddings = self.customer_model(features[\"custumer_id\"])\n",
    "    article_embeddings = self.artilce_model(features[\"article_title\"])\n",
    "    loss = self.task(customer_embeddings, article_embeddings)\n",
    "\n",
    "    # Handle regularization losses as well.\n",
    "    regularization_loss = sum(self.losses)\n",
    "\n",
    "    total_loss = loss + regularization_loss\n",
    "\n",
    "    metrics = {metric.name: metric.result() for metric in self.metrics}\n",
    "    metrics[\"loss\"] = loss\n",
    "    metrics[\"regularization_loss\"] = regularization_loss\n",
    "    metrics[\"total_loss\"] = total_loss\n",
    "\n",
    "    return metrics"
   ]
  },
  {
   "cell_type": "markdown",
   "id": "4bd108d7",
   "metadata": {
    "papermill": {
     "duration": 0.060554,
     "end_time": "2022-05-07T10:20:27.527307",
     "exception": false,
     "start_time": "2022-05-07T10:20:27.466753",
     "status": "completed"
    },
    "tags": []
   },
   "source": [
    "# Fitting and evaluating\n",
    "\n",
    "After defining the model, we can use standard Keras fitting and evaluation routines to fit and evaluate the model.\n",
    "\n",
    "Let's first instantiate the model."
   ]
  },
  {
   "cell_type": "code",
   "execution_count": 21,
   "id": "e8653c48",
   "metadata": {
    "execution": {
     "iopub.execute_input": "2022-05-07T10:20:27.652343Z",
     "iopub.status.busy": "2022-05-07T10:20:27.651419Z",
     "iopub.status.idle": "2022-05-07T10:20:27.674609Z",
     "shell.execute_reply": "2022-05-07T10:20:27.673870Z"
    },
    "papermill": {
     "duration": 0.089136,
     "end_time": "2022-05-07T10:20:27.677560",
     "exception": false,
     "start_time": "2022-05-07T10:20:27.588424",
     "status": "completed"
    },
    "tags": []
   },
   "outputs": [],
   "source": [
    "model = HnMModel(customer_model, article_model)\n",
    "model.compile(optimizer=tf.keras.optimizers.Adagrad(learning_rate=0.1))"
   ]
  },
  {
   "cell_type": "markdown",
   "id": "1a2239ce",
   "metadata": {
    "papermill": {
     "duration": 0.06486,
     "end_time": "2022-05-07T10:20:27.807547",
     "exception": false,
     "start_time": "2022-05-07T10:20:27.742687",
     "status": "completed"
    },
    "tags": []
   },
   "source": [
    "Then shuffle, batch, and cache the training and evaluation data."
   ]
  },
  {
   "cell_type": "code",
   "execution_count": 22,
   "id": "d89f2a60",
   "metadata": {
    "execution": {
     "iopub.execute_input": "2022-05-07T10:20:27.934334Z",
     "iopub.status.busy": "2022-05-07T10:20:27.933681Z",
     "iopub.status.idle": "2022-05-07T10:20:27.943843Z",
     "shell.execute_reply": "2022-05-07T10:20:27.941760Z"
    },
    "papermill": {
     "duration": 0.077029,
     "end_time": "2022-05-07T10:20:27.946972",
     "exception": false,
     "start_time": "2022-05-07T10:20:27.869943",
     "status": "completed"
    },
    "tags": []
   },
   "outputs": [],
   "source": [
    "cached_train = train.shuffle(100_000).batch(8192).cache()\n",
    "cached_test = test.batch(4096).cache()"
   ]
  },
  {
   "cell_type": "code",
   "execution_count": 23,
   "id": "5fc19c50",
   "metadata": {
    "execution": {
     "iopub.execute_input": "2022-05-07T10:20:28.075179Z",
     "iopub.status.busy": "2022-05-07T10:20:28.074562Z",
     "iopub.status.idle": "2022-05-07T11:08:10.802210Z",
     "shell.execute_reply": "2022-05-07T11:08:10.801132Z"
    },
    "papermill": {
     "duration": 2862.795125,
     "end_time": "2022-05-07T11:08:10.805309",
     "exception": false,
     "start_time": "2022-05-07T10:20:28.010184",
     "status": "completed"
    },
    "tags": []
   },
   "outputs": [
    {
     "name": "stdout",
     "output_type": "stream",
     "text": [
      "Epoch 1/8\n",
      "10/10 [==============================] - 335s 33s/step - factorized_top_k/top_1_categorical_accuracy: 1.7500e-04 - factorized_top_k/top_5_categorical_accuracy: 0.0131 - factorized_top_k/top_10_categorical_accuracy: 0.0192 - factorized_top_k/top_50_categorical_accuracy: 0.0389 - factorized_top_k/top_100_categorical_accuracy: 0.0490 - loss: 70350.2543 - regularization_loss: 0.0000e+00 - total_loss: 70350.2543\n",
      "Epoch 2/8\n",
      "10/10 [==============================] - 335s 33s/step - factorized_top_k/top_1_categorical_accuracy: 9.8750e-04 - factorized_top_k/top_5_categorical_accuracy: 0.0976 - factorized_top_k/top_10_categorical_accuracy: 0.1409 - factorized_top_k/top_50_categorical_accuracy: 0.2898 - factorized_top_k/top_100_categorical_accuracy: 0.3858 - loss: 69624.3089 - regularization_loss: 0.0000e+00 - total_loss: 69624.3089\n",
      "Epoch 3/8\n",
      "10/10 [==============================] - 329s 33s/step - factorized_top_k/top_1_categorical_accuracy: 0.0032 - factorized_top_k/top_5_categorical_accuracy: 0.2312 - factorized_top_k/top_10_categorical_accuracy: 0.2934 - factorized_top_k/top_50_categorical_accuracy: 0.4648 - factorized_top_k/top_100_categorical_accuracy: 0.5558 - loss: 66099.4183 - regularization_loss: 0.0000e+00 - total_loss: 66099.4183\n",
      "Epoch 4/8\n",
      "10/10 [==============================] - 332s 33s/step - factorized_top_k/top_1_categorical_accuracy: 0.0099 - factorized_top_k/top_5_categorical_accuracy: 0.3419 - factorized_top_k/top_10_categorical_accuracy: 0.4066 - factorized_top_k/top_50_categorical_accuracy: 0.5698 - factorized_top_k/top_100_categorical_accuracy: 0.6474 - loss: 59533.1719 - regularization_loss: 0.0000e+00 - total_loss: 59533.1719\n",
      "Epoch 5/8\n",
      "10/10 [==============================] - 334s 33s/step - factorized_top_k/top_1_categorical_accuracy: 0.0283 - factorized_top_k/top_5_categorical_accuracy: 0.4349 - factorized_top_k/top_10_categorical_accuracy: 0.5047 - factorized_top_k/top_50_categorical_accuracy: 0.6510 - factorized_top_k/top_100_categorical_accuracy: 0.7233 - loss: 52404.1019 - regularization_loss: 0.0000e+00 - total_loss: 52404.1019\n",
      "Epoch 6/8\n",
      "10/10 [==============================] - 329s 33s/step - factorized_top_k/top_1_categorical_accuracy: 0.0509 - factorized_top_k/top_5_categorical_accuracy: 0.5134 - factorized_top_k/top_10_categorical_accuracy: 0.5867 - factorized_top_k/top_50_categorical_accuracy: 0.7226 - factorized_top_k/top_100_categorical_accuracy: 0.7867 - loss: 45951.7610 - regularization_loss: 0.0000e+00 - total_loss: 45951.7610\n",
      "Epoch 7/8\n",
      "10/10 [==============================] - 330s 33s/step - factorized_top_k/top_1_categorical_accuracy: 0.0707 - factorized_top_k/top_5_categorical_accuracy: 0.5773 - factorized_top_k/top_10_categorical_accuracy: 0.6542 - factorized_top_k/top_50_categorical_accuracy: 0.7832 - factorized_top_k/top_100_categorical_accuracy: 0.8421 - loss: 40472.8920 - regularization_loss: 0.0000e+00 - total_loss: 40472.8920\n",
      "Epoch 8/8\n",
      "10/10 [==============================] - 332s 33s/step - factorized_top_k/top_1_categorical_accuracy: 0.0876 - factorized_top_k/top_5_categorical_accuracy: 0.6311 - factorized_top_k/top_10_categorical_accuracy: 0.7107 - factorized_top_k/top_50_categorical_accuracy: 0.8353 - factorized_top_k/top_100_categorical_accuracy: 0.8882 - loss: 35925.3619 - regularization_loss: 0.0000e+00 - total_loss: 35925.3619\n"
     ]
    }
   ],
   "source": [
    "history=model.fit(cached_train, epochs=8)"
   ]
  },
  {
   "cell_type": "markdown",
   "id": "ce3b7430",
   "metadata": {
    "papermill": {
     "duration": 0.109171,
     "end_time": "2022-05-07T11:08:11.025182",
     "exception": false,
     "start_time": "2022-05-07T11:08:10.916011",
     "status": "completed"
    },
    "tags": []
   },
   "source": [
    "Finally, we can evaluate our model on the test set:"
   ]
  },
  {
   "cell_type": "code",
   "execution_count": 24,
   "id": "3b6cb672",
   "metadata": {
    "execution": {
     "iopub.execute_input": "2022-05-07T11:08:11.259245Z",
     "iopub.status.busy": "2022-05-07T11:08:11.258622Z",
     "iopub.status.idle": "2022-05-07T11:09:37.140627Z",
     "shell.execute_reply": "2022-05-07T11:09:37.139649Z"
    },
    "papermill": {
     "duration": 86.001994,
     "end_time": "2022-05-07T11:09:37.142983",
     "exception": false,
     "start_time": "2022-05-07T11:08:11.140989",
     "status": "completed"
    },
    "tags": []
   },
   "outputs": [
    {
     "name": "stdout",
     "output_type": "stream",
     "text": [
      "5/5 [==============================] - 86s 17s/step - factorized_top_k/top_1_categorical_accuracy: 0.0218 - factorized_top_k/top_5_categorical_accuracy: 0.0737 - factorized_top_k/top_10_categorical_accuracy: 0.0869 - factorized_top_k/top_50_categorical_accuracy: 0.1191 - factorized_top_k/top_100_categorical_accuracy: 0.1383 - loss: 33144.6523 - regularization_loss: 0.0000e+00 - total_loss: 33144.6523\n"
     ]
    },
    {
     "data": {
      "text/plain": [
       "{'factorized_top_k/top_1_categorical_accuracy': 0.021800000220537186,\n",
       " 'factorized_top_k/top_5_categorical_accuracy': 0.07374999672174454,\n",
       " 'factorized_top_k/top_10_categorical_accuracy': 0.0869000032544136,\n",
       " 'factorized_top_k/top_50_categorical_accuracy': 0.11905000358819962,\n",
       " 'factorized_top_k/top_100_categorical_accuracy': 0.13830000162124634,\n",
       " 'loss': 30133.01171875,\n",
       " 'regularization_loss': 0,\n",
       " 'total_loss': 30133.01171875}"
      ]
     },
     "execution_count": 24,
     "metadata": {},
     "output_type": "execute_result"
    }
   ],
   "source": [
    "model.evaluate(cached_test, return_dict=True)"
   ]
  },
  {
   "cell_type": "code",
   "execution_count": 25,
   "id": "afe3a211",
   "metadata": {
    "execution": {
     "iopub.execute_input": "2022-05-07T11:09:37.370423Z",
     "iopub.status.busy": "2022-05-07T11:09:37.369809Z",
     "iopub.status.idle": "2022-05-07T11:09:58.911571Z",
     "shell.execute_reply": "2022-05-07T11:09:58.910549Z"
    },
    "papermill": {
     "duration": 21.659484,
     "end_time": "2022-05-07T11:09:58.914597",
     "exception": false,
     "start_time": "2022-05-07T11:09:37.255113",
     "status": "completed"
    },
    "tags": []
   },
   "outputs": [
    {
     "name": "stderr",
     "output_type": "stream",
     "text": [
      "[libprotobuf WARNING external/com_google_protobuf/src/google/protobuf/text_format.cc:339] Warning parsing text-format research_scann.ScannConfig: 43:11: text format contains deprecated field \"min_cluster_size\"\n"
     ]
    }
   ],
   "source": [
    "scann_index = tfrs.layers.factorized_top_k.ScaNN(model.customer_model, k = 12 )\n",
    "scann_index.index_from_dataset(\n",
    "  tf.data.Dataset.zip((article.batch(100), article.batch(100).map(model.article_model)))\n",
    ")\n",
    "\n",
    "\n",
    "_,articles = scann_index(submission.customer_id.values)\n",
    "preds = articles.numpy().astype(str)\n",
    "preds = pd.Series(map(' '.join, preds,))"
   ]
  },
  {
   "cell_type": "code",
   "execution_count": 26,
   "id": "d09b4dd3",
   "metadata": {
    "execution": {
     "iopub.execute_input": "2022-05-07T11:09:59.144147Z",
     "iopub.status.busy": "2022-05-07T11:09:59.143832Z",
     "iopub.status.idle": "2022-05-07T11:09:59.196568Z",
     "shell.execute_reply": "2022-05-07T11:09:59.195064Z"
    },
    "papermill": {
     "duration": 0.170901,
     "end_time": "2022-05-07T11:09:59.199056",
     "exception": false,
     "start_time": "2022-05-07T11:09:59.028155",
     "status": "completed"
    },
    "tags": []
   },
   "outputs": [
    {
     "data": {
      "text/html": [
       "<div>\n",
       "<style scoped>\n",
       "    .dataframe tbody tr th:only-of-type {\n",
       "        vertical-align: middle;\n",
       "    }\n",
       "\n",
       "    .dataframe tbody tr th {\n",
       "        vertical-align: top;\n",
       "    }\n",
       "\n",
       "    .dataframe thead th {\n",
       "        text-align: right;\n",
       "    }\n",
       "</style>\n",
       "<table border=\"1\" class=\"dataframe\">\n",
       "  <thead>\n",
       "    <tr style=\"text-align: right;\">\n",
       "      <th></th>\n",
       "      <th>customer_id</th>\n",
       "      <th>prediction</th>\n",
       "    </tr>\n",
       "  </thead>\n",
       "  <tbody>\n",
       "    <tr>\n",
       "      <th>0</th>\n",
       "      <td>00000dbacae5abe5e23885899a1fa44253a17956c6d1c3...</td>\n",
       "      <td>877369001 864415005 865880001 817353002 852584...</td>\n",
       "    </tr>\n",
       "    <tr>\n",
       "      <th>1</th>\n",
       "      <td>0000423b00ade91418cceaf3b26c6af3dd342b51fd051e...</td>\n",
       "      <td>505882002 904820002 907696004 698276007 720504...</td>\n",
       "    </tr>\n",
       "    <tr>\n",
       "      <th>2</th>\n",
       "      <td>000058a12d5b43e67d225668fa1f8d618c13dc232df0ca...</td>\n",
       "      <td>832482002 880029001 880029002 747196003 842607...</td>\n",
       "    </tr>\n",
       "    <tr>\n",
       "      <th>3</th>\n",
       "      <td>00005ca1c9ed5f5146b52ac8639a40ca9d57aeff4d1bd2...</td>\n",
       "      <td>745232002 883693001 612800009 479167002 556539...</td>\n",
       "    </tr>\n",
       "    <tr>\n",
       "      <th>4</th>\n",
       "      <td>00006413d8573cd20ed7128e53b7b13819fe5cfc2d801f...</td>\n",
       "      <td>918836001 903333001 853472001 881570001 717490...</td>\n",
       "    </tr>\n",
       "  </tbody>\n",
       "</table>\n",
       "</div>"
      ],
      "text/plain": [
       "                                         customer_id  \\\n",
       "0  00000dbacae5abe5e23885899a1fa44253a17956c6d1c3...   \n",
       "1  0000423b00ade91418cceaf3b26c6af3dd342b51fd051e...   \n",
       "2  000058a12d5b43e67d225668fa1f8d618c13dc232df0ca...   \n",
       "3  00005ca1c9ed5f5146b52ac8639a40ca9d57aeff4d1bd2...   \n",
       "4  00006413d8573cd20ed7128e53b7b13819fe5cfc2d801f...   \n",
       "\n",
       "                                          prediction  \n",
       "0  877369001 864415005 865880001 817353002 852584...  \n",
       "1  505882002 904820002 907696004 698276007 720504...  \n",
       "2  832482002 880029001 880029002 747196003 842607...  \n",
       "3  745232002 883693001 612800009 479167002 556539...  \n",
       "4  918836001 903333001 853472001 881570001 717490...  "
      ]
     },
     "execution_count": 26,
     "metadata": {},
     "output_type": "execute_result"
    }
   ],
   "source": [
    "submission['prediction']=preds\n",
    "submission.head()"
   ]
  },
  {
   "cell_type": "code",
   "execution_count": 27,
   "id": "1c5e3970",
   "metadata": {
    "execution": {
     "iopub.execute_input": "2022-05-07T11:09:59.430464Z",
     "iopub.status.busy": "2022-05-07T11:09:59.429898Z",
     "iopub.status.idle": "2022-05-07T11:10:08.517434Z",
     "shell.execute_reply": "2022-05-07T11:10:08.515976Z"
    },
    "papermill": {
     "duration": 9.207781,
     "end_time": "2022-05-07T11:10:08.520743",
     "exception": false,
     "start_time": "2022-05-07T11:09:59.312962",
     "status": "completed"
    },
    "tags": []
   },
   "outputs": [
    {
     "name": "stdout",
     "output_type": "stream",
     "text": [
      "Submission has been created! CONGRATULATION\n"
     ]
    }
   ],
   "source": [
    "submission.to_csv('submission.csv', index=False)\n",
    "print(\"Submission has been created! CONGRATULATION\")"
   ]
  },
  {
   "cell_type": "markdown",
   "id": "9cde3123",
   "metadata": {
    "papermill": {
     "duration": 0.115205,
     "end_time": "2022-05-07T11:10:08.752153",
     "exception": false,
     "start_time": "2022-05-07T11:10:08.636948",
     "status": "completed"
    },
    "tags": []
   },
   "source": [
    "# References\n",
    "\n",
    "https://www.kaggle.com/code/viji1609/h-m-basic-retrieval-model-tf-recommender\n",
    "\n",
    "https://www.kaggle.com/code/beezus666/tensor-flow-recommender-quick-start\n",
    "\n",
    "https://www.tensorflow.org/recommenders/examples/basic_retrieval"
   ]
  },
  {
   "cell_type": "code",
   "execution_count": null,
   "id": "dda067bc",
   "metadata": {
    "papermill": {
     "duration": 0.113878,
     "end_time": "2022-05-07T11:10:08.982669",
     "exception": false,
     "start_time": "2022-05-07T11:10:08.868791",
     "status": "completed"
    },
    "tags": []
   },
   "outputs": [],
   "source": []
  }
 ],
 "metadata": {
  "kernelspec": {
   "display_name": "Python 3",
   "language": "python",
   "name": "python3"
  },
  "language_info": {
   "codemirror_mode": {
    "name": "ipython",
    "version": 3
   },
   "file_extension": ".py",
   "mimetype": "text/x-python",
   "name": "python",
   "nbconvert_exporter": "python",
   "pygments_lexer": "ipython3",
   "version": "3.7.12"
  },
  "papermill": {
   "default_parameters": {},
   "duration": 3219.769853,
   "end_time": "2022-05-07T11:10:11.937585",
   "environment_variables": {},
   "exception": null,
   "input_path": "__notebook__.ipynb",
   "output_path": "__notebook__.ipynb",
   "parameters": {},
   "start_time": "2022-05-07T10:16:32.167732",
   "version": "2.3.4"
  }
 },
 "nbformat": 4,
 "nbformat_minor": 5
}
